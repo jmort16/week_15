{
 "cells": [
  {
   "cell_type": "markdown",
   "id": "9c524fdf",
   "metadata": {},
   "source": [
    "#### 1. Look up SMOTE oversampling https://imbalanced-learn.org/stable/references/generated/imblearn.over_sampling.SMOTE.html.  "
   ]
  },
  {
   "cell_type": "markdown",
   "id": "8bffc418",
   "metadata": {},
   "source": [
    "##### a. Describe what it is in your own words in markdown."
   ]
  },
  {
   "cell_type": "markdown",
   "id": "2a85f07f",
   "metadata": {},
   "source": [
    "SMOTE stands for Synthetic Minority Over-sampling Technique.  This technique creates new syntheticized data (rather than simply making copies of existing data).  It starts by randomly selecting a minority data example.  It uses KNN, taking the five nearest neighbors and randomly selecting one of the five.  Then a line is drawn from the randomly selected example to the randomly selected nearest neighbor.  The new, synthesized data point is placed at a randomly selected point on the line between the first two points."
   ]
  },
  {
   "cell_type": "markdown",
   "id": "9ef9743e",
   "metadata": {},
   "source": [
    "##### b. Use this technique with the diabetes dataset. Comment on the model performance compared to other methods. Make sure you are clear about why you chose the performance metric you did."
   ]
  },
  {
   "cell_type": "code",
   "execution_count": 17,
   "id": "47966e44",
   "metadata": {},
   "outputs": [
    {
     "data": {
      "text/html": [
       "<div>\n",
       "<style scoped>\n",
       "    .dataframe tbody tr th:only-of-type {\n",
       "        vertical-align: middle;\n",
       "    }\n",
       "\n",
       "    .dataframe tbody tr th {\n",
       "        vertical-align: top;\n",
       "    }\n",
       "\n",
       "    .dataframe thead th {\n",
       "        text-align: right;\n",
       "    }\n",
       "</style>\n",
       "<table border=\"1\" class=\"dataframe\">\n",
       "  <thead>\n",
       "    <tr style=\"text-align: right;\">\n",
       "      <th></th>\n",
       "      <th>Pregnancies</th>\n",
       "      <th>Glucose</th>\n",
       "      <th>BloodPressure</th>\n",
       "      <th>SkinThickness</th>\n",
       "      <th>Insulin</th>\n",
       "      <th>BMI</th>\n",
       "      <th>DiabetesPedigreeFunction</th>\n",
       "      <th>Age</th>\n",
       "      <th>Outcome</th>\n",
       "    </tr>\n",
       "  </thead>\n",
       "  <tbody>\n",
       "    <tr>\n",
       "      <th>0</th>\n",
       "      <td>6</td>\n",
       "      <td>148</td>\n",
       "      <td>72</td>\n",
       "      <td>35</td>\n",
       "      <td>0</td>\n",
       "      <td>33.6</td>\n",
       "      <td>0.627</td>\n",
       "      <td>50</td>\n",
       "      <td>1</td>\n",
       "    </tr>\n",
       "    <tr>\n",
       "      <th>1</th>\n",
       "      <td>1</td>\n",
       "      <td>85</td>\n",
       "      <td>66</td>\n",
       "      <td>29</td>\n",
       "      <td>0</td>\n",
       "      <td>26.6</td>\n",
       "      <td>0.351</td>\n",
       "      <td>31</td>\n",
       "      <td>0</td>\n",
       "    </tr>\n",
       "    <tr>\n",
       "      <th>2</th>\n",
       "      <td>8</td>\n",
       "      <td>183</td>\n",
       "      <td>64</td>\n",
       "      <td>0</td>\n",
       "      <td>0</td>\n",
       "      <td>23.3</td>\n",
       "      <td>0.672</td>\n",
       "      <td>32</td>\n",
       "      <td>1</td>\n",
       "    </tr>\n",
       "    <tr>\n",
       "      <th>3</th>\n",
       "      <td>1</td>\n",
       "      <td>89</td>\n",
       "      <td>66</td>\n",
       "      <td>23</td>\n",
       "      <td>94</td>\n",
       "      <td>28.1</td>\n",
       "      <td>0.167</td>\n",
       "      <td>21</td>\n",
       "      <td>0</td>\n",
       "    </tr>\n",
       "    <tr>\n",
       "      <th>4</th>\n",
       "      <td>0</td>\n",
       "      <td>137</td>\n",
       "      <td>40</td>\n",
       "      <td>35</td>\n",
       "      <td>168</td>\n",
       "      <td>43.1</td>\n",
       "      <td>2.288</td>\n",
       "      <td>33</td>\n",
       "      <td>1</td>\n",
       "    </tr>\n",
       "  </tbody>\n",
       "</table>\n",
       "</div>"
      ],
      "text/plain": [
       "   Pregnancies  Glucose  BloodPressure  SkinThickness  Insulin   BMI  \\\n",
       "0            6      148             72             35        0  33.6   \n",
       "1            1       85             66             29        0  26.6   \n",
       "2            8      183             64              0        0  23.3   \n",
       "3            1       89             66             23       94  28.1   \n",
       "4            0      137             40             35      168  43.1   \n",
       "\n",
       "   DiabetesPedigreeFunction  Age  Outcome  \n",
       "0                     0.627   50        1  \n",
       "1                     0.351   31        0  \n",
       "2                     0.672   32        1  \n",
       "3                     0.167   21        0  \n",
       "4                     2.288   33        1  "
      ]
     },
     "execution_count": 17,
     "metadata": {},
     "output_type": "execute_result"
    }
   ],
   "source": [
    "import pandas as pd\n",
    "from sklearn.preprocessing import StandardScaler\n",
    "import imblearn\n",
    "from collections import Counter\n",
    "from imblearn.over_sampling import SMOTE \n",
    "import matplotlib.pyplot as plt\n",
    "import numpy as np\n",
    "from sklearn.model_selection import train_test_split\n",
    "from numpy import where\n",
    "\n",
    "diabetes = pd.read_csv(\"../wk_13_hmwk/diabetes.csv\")\n",
    "diabetes_df = pd.DataFrame(diabetes)\n",
    "diabetes_df.head()"
   ]
  },
  {
   "cell_type": "code",
   "execution_count": 10,
   "id": "c937b33e",
   "metadata": {},
   "outputs": [
    {
     "data": {
      "text/html": [
       "<div>\n",
       "<style scoped>\n",
       "    .dataframe tbody tr th:only-of-type {\n",
       "        vertical-align: middle;\n",
       "    }\n",
       "\n",
       "    .dataframe tbody tr th {\n",
       "        vertical-align: top;\n",
       "    }\n",
       "\n",
       "    .dataframe thead th {\n",
       "        text-align: right;\n",
       "    }\n",
       "</style>\n",
       "<table border=\"1\" class=\"dataframe\">\n",
       "  <thead>\n",
       "    <tr style=\"text-align: right;\">\n",
       "      <th></th>\n",
       "      <th>Pregnancies_scaled</th>\n",
       "      <th>Glucose_scaled</th>\n",
       "      <th>BloodPressure_scaled</th>\n",
       "      <th>SkinThickness_scaled</th>\n",
       "      <th>Insulin_scaled</th>\n",
       "      <th>BMI_scaled</th>\n",
       "      <th>DiabetesPedigreeFunction_scaled</th>\n",
       "      <th>Age_scaled</th>\n",
       "      <th>Outcome_scaled</th>\n",
       "    </tr>\n",
       "  </thead>\n",
       "  <tbody>\n",
       "    <tr>\n",
       "      <th>0</th>\n",
       "      <td>0.639947</td>\n",
       "      <td>0.848324</td>\n",
       "      <td>0.149641</td>\n",
       "      <td>0.907270</td>\n",
       "      <td>-0.692891</td>\n",
       "      <td>0.204013</td>\n",
       "      <td>0.468492</td>\n",
       "      <td>1.425995</td>\n",
       "      <td>1.365896</td>\n",
       "    </tr>\n",
       "    <tr>\n",
       "      <th>1</th>\n",
       "      <td>-0.844885</td>\n",
       "      <td>-1.123396</td>\n",
       "      <td>-0.160546</td>\n",
       "      <td>0.530902</td>\n",
       "      <td>-0.692891</td>\n",
       "      <td>-0.684422</td>\n",
       "      <td>-0.365061</td>\n",
       "      <td>-0.190672</td>\n",
       "      <td>-0.732120</td>\n",
       "    </tr>\n",
       "    <tr>\n",
       "      <th>2</th>\n",
       "      <td>1.233880</td>\n",
       "      <td>1.943724</td>\n",
       "      <td>-0.263941</td>\n",
       "      <td>-1.288212</td>\n",
       "      <td>-0.692891</td>\n",
       "      <td>-1.103255</td>\n",
       "      <td>0.604397</td>\n",
       "      <td>-0.105584</td>\n",
       "      <td>1.365896</td>\n",
       "    </tr>\n",
       "    <tr>\n",
       "      <th>3</th>\n",
       "      <td>-0.844885</td>\n",
       "      <td>-0.998208</td>\n",
       "      <td>-0.160546</td>\n",
       "      <td>0.154533</td>\n",
       "      <td>0.123302</td>\n",
       "      <td>-0.494043</td>\n",
       "      <td>-0.920763</td>\n",
       "      <td>-1.041549</td>\n",
       "      <td>-0.732120</td>\n",
       "    </tr>\n",
       "    <tr>\n",
       "      <th>4</th>\n",
       "      <td>-1.141852</td>\n",
       "      <td>0.504055</td>\n",
       "      <td>-1.504687</td>\n",
       "      <td>0.907270</td>\n",
       "      <td>0.765836</td>\n",
       "      <td>1.409746</td>\n",
       "      <td>5.484909</td>\n",
       "      <td>-0.020496</td>\n",
       "      <td>1.365896</td>\n",
       "    </tr>\n",
       "  </tbody>\n",
       "</table>\n",
       "</div>"
      ],
      "text/plain": [
       "   Pregnancies_scaled  Glucose_scaled  BloodPressure_scaled  \\\n",
       "0            0.639947        0.848324              0.149641   \n",
       "1           -0.844885       -1.123396             -0.160546   \n",
       "2            1.233880        1.943724             -0.263941   \n",
       "3           -0.844885       -0.998208             -0.160546   \n",
       "4           -1.141852        0.504055             -1.504687   \n",
       "\n",
       "   SkinThickness_scaled  Insulin_scaled  BMI_scaled  \\\n",
       "0              0.907270       -0.692891    0.204013   \n",
       "1              0.530902       -0.692891   -0.684422   \n",
       "2             -1.288212       -0.692891   -1.103255   \n",
       "3              0.154533        0.123302   -0.494043   \n",
       "4              0.907270        0.765836    1.409746   \n",
       "\n",
       "   DiabetesPedigreeFunction_scaled  Age_scaled  Outcome_scaled  \n",
       "0                         0.468492    1.425995        1.365896  \n",
       "1                        -0.365061   -0.190672       -0.732120  \n",
       "2                         0.604397   -0.105584        1.365896  \n",
       "3                        -0.920763   -1.041549       -0.732120  \n",
       "4                         5.484909   -0.020496        1.365896  "
      ]
     },
     "execution_count": 10,
     "metadata": {},
     "output_type": "execute_result"
    }
   ],
   "source": [
    "features = diabetes.columns+'_scaled'\n",
    "scaler = StandardScaler().fit(diabetes)\n",
    "scaled = scaler.transform(diabetes)\n",
    "scaled_df=pd.DataFrame(scaled)\n",
    "scaled_df.columns = features\n",
    "scaled_df.head()"
   ]
  },
  {
   "cell_type": "code",
   "execution_count": 19,
   "id": "511b2276",
   "metadata": {},
   "outputs": [
    {
     "name": "stdout",
     "output_type": "stream",
     "text": [
      "Counter({0: 500, 1: 268})\n"
     ]
    },
    {
     "ename": "TypeError",
     "evalue": "'(array([  0,   2,   4,   6,   8,   9,  11,  13,  14,  15,  16,  17,  19,\n        22,  23,  24,  25,  26,  31,  37,  38,  39,  43,  45,  48,  53,\n        56,  61,  64,  66,  70,  72,  78,  84,  88,  93,  99, 100, 109,\n       110, 111, 114, 115, 116, 120, 124, 125, 128, 129, 130, 131, 132,\n       143, 152, 154, 155, 159, 164, 165, 170, 171, 175, 177, 179, 185,\n       186, 187, 188, 189, 192, 193, 195, 197, 198, 199, 206, 207, 209,\n       213, 214, 215, 216, 218, 219, 220, 221, 227, 230, 231, 235, 236,\n       237, 238, 242, 243, 245, 254, 255, 259, 261, 264, 266, 269, 270,\n       276, 280, 283, 284, 287, 291, 292, 293, 296, 298, 300, 301, 303,\n       306, 308, 309, 312, 314, 317, 319, 321, 322, 323, 326, 328, 332,\n       337, 338, 339, 349, 355, 356, 357, 359, 360, 363, 366, 369, 370,\n       375, 378, 386, 387, 388, 391, 394, 397, 399, 400, 402, 404, 406,\n       408, 409, 414, 415, 417, 419, 424, 425, 427, 429, 435, 440, 443,\n       444, 445, 448, 451, 455, 458, 468, 476, 480, 484, 485, 493, 498,\n       502, 506, 510, 515, 516, 523, 535, 539, 540, 541, 542, 545, 546,\n       560, 561, 569, 577, 579, 580, 584, 586, 588, 590, 592, 595, 598,\n       603, 604, 606, 611, 612, 614, 618, 619, 630, 635, 638, 642, 646,\n       647, 648, 655, 659, 661, 662, 663, 664, 666, 667, 675, 676, 678,\n       681, 683, 689, 691, 693, 695, 696, 701, 702, 706, 708, 709, 712,\n       715, 716, 719, 722, 730, 731, 732, 739, 740, 743, 746, 748, 749,\n       750, 753, 754, 755, 757, 759, 761, 766], dtype=int64), 0)' is an invalid key",
     "output_type": "error",
     "traceback": [
      "\u001b[1;31m---------------------------------------------------------------------------\u001b[0m",
      "\u001b[1;31mTypeError\u001b[0m                                 Traceback (most recent call last)",
      "\u001b[1;32mC:\\Users\\JMORTE~1\\AppData\\Local\\Temp/ipykernel_24868/2314799838.py\u001b[0m in \u001b[0;36m<module>\u001b[1;34m\u001b[0m\n\u001b[0;32m     11\u001b[0m \u001b[1;32mfor\u001b[0m \u001b[0mlabel\u001b[0m\u001b[1;33m,\u001b[0m \u001b[0m_\u001b[0m \u001b[1;32min\u001b[0m \u001b[0mcounter\u001b[0m\u001b[1;33m.\u001b[0m\u001b[0mitems\u001b[0m\u001b[1;33m(\u001b[0m\u001b[1;33m)\u001b[0m\u001b[1;33m:\u001b[0m\u001b[1;33m\u001b[0m\u001b[1;33m\u001b[0m\u001b[0m\n\u001b[0;32m     12\u001b[0m     \u001b[0mrow_ix\u001b[0m \u001b[1;33m=\u001b[0m \u001b[0mwhere\u001b[0m\u001b[1;33m(\u001b[0m\u001b[0my\u001b[0m \u001b[1;33m==\u001b[0m \u001b[0mlabel\u001b[0m\u001b[1;33m)\u001b[0m\u001b[1;33m[\u001b[0m\u001b[1;36m0\u001b[0m\u001b[1;33m]\u001b[0m\u001b[1;33m\u001b[0m\u001b[1;33m\u001b[0m\u001b[0m\n\u001b[1;32m---> 13\u001b[1;33m     \u001b[0mplt\u001b[0m\u001b[1;33m.\u001b[0m\u001b[0mscatter\u001b[0m\u001b[1;33m(\u001b[0m\u001b[0mX\u001b[0m\u001b[1;33m[\u001b[0m\u001b[0mrow_ix\u001b[0m\u001b[1;33m,\u001b[0m \u001b[1;36m0\u001b[0m\u001b[1;33m]\u001b[0m\u001b[1;33m,\u001b[0m \u001b[0mX\u001b[0m\u001b[1;33m[\u001b[0m\u001b[0mrow_ix\u001b[0m\u001b[1;33m,\u001b[0m \u001b[1;36m1\u001b[0m\u001b[1;33m]\u001b[0m\u001b[1;33m,\u001b[0m \u001b[0mlabel\u001b[0m\u001b[1;33m=\u001b[0m\u001b[0mstr\u001b[0m\u001b[1;33m(\u001b[0m\u001b[0mlabel\u001b[0m\u001b[1;33m)\u001b[0m\u001b[1;33m)\u001b[0m\u001b[1;33m\u001b[0m\u001b[1;33m\u001b[0m\u001b[0m\n\u001b[0m\u001b[0;32m     14\u001b[0m \u001b[0mplt\u001b[0m\u001b[1;33m.\u001b[0m\u001b[0mlegend\u001b[0m\u001b[1;33m(\u001b[0m\u001b[1;33m)\u001b[0m\u001b[1;33m\u001b[0m\u001b[1;33m\u001b[0m\u001b[0m\n\u001b[0;32m     15\u001b[0m \u001b[0mplt\u001b[0m\u001b[1;33m.\u001b[0m\u001b[0mshow\u001b[0m\u001b[1;33m(\u001b[0m\u001b[1;33m)\u001b[0m\u001b[1;33m\u001b[0m\u001b[1;33m\u001b[0m\u001b[0m\n",
      "\u001b[1;32m~\\AppData\\Local\\Programs\\Python\\Python39\\lib\\site-packages\\pandas\\core\\frame.py\u001b[0m in \u001b[0;36m__getitem__\u001b[1;34m(self, key)\u001b[0m\n\u001b[0;32m   3456\u001b[0m             \u001b[1;32mif\u001b[0m \u001b[0mself\u001b[0m\u001b[1;33m.\u001b[0m\u001b[0mcolumns\u001b[0m\u001b[1;33m.\u001b[0m\u001b[0mnlevels\u001b[0m \u001b[1;33m>\u001b[0m \u001b[1;36m1\u001b[0m\u001b[1;33m:\u001b[0m\u001b[1;33m\u001b[0m\u001b[1;33m\u001b[0m\u001b[0m\n\u001b[0;32m   3457\u001b[0m                 \u001b[1;32mreturn\u001b[0m \u001b[0mself\u001b[0m\u001b[1;33m.\u001b[0m\u001b[0m_getitem_multilevel\u001b[0m\u001b[1;33m(\u001b[0m\u001b[0mkey\u001b[0m\u001b[1;33m)\u001b[0m\u001b[1;33m\u001b[0m\u001b[1;33m\u001b[0m\u001b[0m\n\u001b[1;32m-> 3458\u001b[1;33m             \u001b[0mindexer\u001b[0m \u001b[1;33m=\u001b[0m \u001b[0mself\u001b[0m\u001b[1;33m.\u001b[0m\u001b[0mcolumns\u001b[0m\u001b[1;33m.\u001b[0m\u001b[0mget_loc\u001b[0m\u001b[1;33m(\u001b[0m\u001b[0mkey\u001b[0m\u001b[1;33m)\u001b[0m\u001b[1;33m\u001b[0m\u001b[1;33m\u001b[0m\u001b[0m\n\u001b[0m\u001b[0;32m   3459\u001b[0m             \u001b[1;32mif\u001b[0m \u001b[0mis_integer\u001b[0m\u001b[1;33m(\u001b[0m\u001b[0mindexer\u001b[0m\u001b[1;33m)\u001b[0m\u001b[1;33m:\u001b[0m\u001b[1;33m\u001b[0m\u001b[1;33m\u001b[0m\u001b[0m\n\u001b[0;32m   3460\u001b[0m                 \u001b[0mindexer\u001b[0m \u001b[1;33m=\u001b[0m \u001b[1;33m[\u001b[0m\u001b[0mindexer\u001b[0m\u001b[1;33m]\u001b[0m\u001b[1;33m\u001b[0m\u001b[1;33m\u001b[0m\u001b[0m\n",
      "\u001b[1;32m~\\AppData\\Local\\Programs\\Python\\Python39\\lib\\site-packages\\pandas\\core\\indexes\\base.py\u001b[0m in \u001b[0;36mget_loc\u001b[1;34m(self, key, method, tolerance)\u001b[0m\n\u001b[0;32m   3359\u001b[0m             \u001b[0mcasted_key\u001b[0m \u001b[1;33m=\u001b[0m \u001b[0mself\u001b[0m\u001b[1;33m.\u001b[0m\u001b[0m_maybe_cast_indexer\u001b[0m\u001b[1;33m(\u001b[0m\u001b[0mkey\u001b[0m\u001b[1;33m)\u001b[0m\u001b[1;33m\u001b[0m\u001b[1;33m\u001b[0m\u001b[0m\n\u001b[0;32m   3360\u001b[0m             \u001b[1;32mtry\u001b[0m\u001b[1;33m:\u001b[0m\u001b[1;33m\u001b[0m\u001b[1;33m\u001b[0m\u001b[0m\n\u001b[1;32m-> 3361\u001b[1;33m                 \u001b[1;32mreturn\u001b[0m \u001b[0mself\u001b[0m\u001b[1;33m.\u001b[0m\u001b[0m_engine\u001b[0m\u001b[1;33m.\u001b[0m\u001b[0mget_loc\u001b[0m\u001b[1;33m(\u001b[0m\u001b[0mcasted_key\u001b[0m\u001b[1;33m)\u001b[0m\u001b[1;33m\u001b[0m\u001b[1;33m\u001b[0m\u001b[0m\n\u001b[0m\u001b[0;32m   3362\u001b[0m             \u001b[1;32mexcept\u001b[0m \u001b[0mKeyError\u001b[0m \u001b[1;32mas\u001b[0m \u001b[0merr\u001b[0m\u001b[1;33m:\u001b[0m\u001b[1;33m\u001b[0m\u001b[1;33m\u001b[0m\u001b[0m\n\u001b[0;32m   3363\u001b[0m                 \u001b[1;32mraise\u001b[0m \u001b[0mKeyError\u001b[0m\u001b[1;33m(\u001b[0m\u001b[0mkey\u001b[0m\u001b[1;33m)\u001b[0m \u001b[1;32mfrom\u001b[0m \u001b[0merr\u001b[0m\u001b[1;33m\u001b[0m\u001b[1;33m\u001b[0m\u001b[0m\n",
      "\u001b[1;32m~\\AppData\\Local\\Programs\\Python\\Python39\\lib\\site-packages\\pandas\\_libs\\index.pyx\u001b[0m in \u001b[0;36mpandas._libs.index.IndexEngine.get_loc\u001b[1;34m()\u001b[0m\n",
      "\u001b[1;32m~\\AppData\\Local\\Programs\\Python\\Python39\\lib\\site-packages\\pandas\\_libs\\index.pyx\u001b[0m in \u001b[0;36mpandas._libs.index.IndexEngine.get_loc\u001b[1;34m()\u001b[0m\n",
      "\u001b[1;31mTypeError\u001b[0m: '(array([  0,   2,   4,   6,   8,   9,  11,  13,  14,  15,  16,  17,  19,\n        22,  23,  24,  25,  26,  31,  37,  38,  39,  43,  45,  48,  53,\n        56,  61,  64,  66,  70,  72,  78,  84,  88,  93,  99, 100, 109,\n       110, 111, 114, 115, 116, 120, 124, 125, 128, 129, 130, 131, 132,\n       143, 152, 154, 155, 159, 164, 165, 170, 171, 175, 177, 179, 185,\n       186, 187, 188, 189, 192, 193, 195, 197, 198, 199, 206, 207, 209,\n       213, 214, 215, 216, 218, 219, 220, 221, 227, 230, 231, 235, 236,\n       237, 238, 242, 243, 245, 254, 255, 259, 261, 264, 266, 269, 270,\n       276, 280, 283, 284, 287, 291, 292, 293, 296, 298, 300, 301, 303,\n       306, 308, 309, 312, 314, 317, 319, 321, 322, 323, 326, 328, 332,\n       337, 338, 339, 349, 355, 356, 357, 359, 360, 363, 366, 369, 370,\n       375, 378, 386, 387, 388, 391, 394, 397, 399, 400, 402, 404, 406,\n       408, 409, 414, 415, 417, 419, 424, 425, 427, 429, 435, 440, 443,\n       444, 445, 448, 451, 455, 458, 468, 476, 480, 484, 485, 493, 498,\n       502, 506, 510, 515, 516, 523, 535, 539, 540, 541, 542, 545, 546,\n       560, 561, 569, 577, 579, 580, 584, 586, 588, 590, 592, 595, 598,\n       603, 604, 606, 611, 612, 614, 618, 619, 630, 635, 638, 642, 646,\n       647, 648, 655, 659, 661, 662, 663, 664, 666, 667, 675, 676, 678,\n       681, 683, 689, 691, 693, 695, 696, 701, 702, 706, 708, 709, 712,\n       715, 716, 719, 722, 730, 731, 732, 739, 740, 743, 746, 748, 749,\n       750, 753, 754, 755, 757, 759, 761, 766], dtype=int64), 0)' is an invalid key"
     ]
    }
   ],
   "source": [
    "X = scaled_df.drop(\"Outcome_scaled\", axis=1)\n",
    "y = diabetes_df[\"Outcome\"]\n",
    "\n",
    "X_train, X_test, y_train, y_test = train_test_split(X, y, test_size = 0.3, random_state = 43)\n",
    "\n",
    "# summarize class distribution\n",
    "counter = Counter(y)\n",
    "print(counter)\n",
    "\n",
    "# scatter plot of examples by class label\n",
    "for label, _ in counter.items():\n",
    "    row_ix = where(y == label)[0]\n",
    "    plt.scatter(X[row_ix, 0], X[row_ix, 1], label=str(label))\n",
    "plt.legend()\n",
    "plt.show()\n",
    "\n",
    "# transform the dataset\n",
    "#oversample = SMOTE()\n",
    "#X, y = oversample.fit_resample(X, y)"
   ]
  },
  {
   "cell_type": "markdown",
   "id": "2687eddc",
   "metadata": {},
   "source": [
    "##### 2. Create a function called rec_digit_sum that takes in an integer. This function is the recursive sum of all the digits in a number.  Given n, take the sum of all the digits in n. If the resulting value has more than one digit, continue calling the function in this way until a single-digit number is produced. The input will be a non-negative integer, and this should work for extremely large values as well as for single-digit inputs.\n",
    "\n",
    "##### Examples:\n",
    "##### 16 --> 1 + 6 = 7\n",
    "##### 942 --> 9 + 4 + 2 = 15 --> 1 + 5 = 6\n",
    "##### 132189 --> 1 + 3 + 2 + 1 + 8 + 9 = 24 --> 2 + 4 = 6\n",
    "##### 493193 --> 4 + 9 + 3 + 1 + 9 + 3 = 29 --> 2 + 9 = 11 --> 1 + 1 = 2"
   ]
  },
  {
   "cell_type": "code",
   "execution_count": 20,
   "id": "faa13289",
   "metadata": {},
   "outputs": [],
   "source": [
    "def rec_digit_sum(x):\n",
    "    string = str(x)\n",
    "    added = 0\n",
    "    try:\n",
    "        for i in string:\n",
    "            added = added + int(i)\n",
    "    \n",
    "        if added > 10:\n",
    "            rec_digit_sum(added)\n",
    "        else:\n",
    "            print (\"Recursive Sum of Digits = \", added)\n",
    "    except Exception as e:\n",
    "        print(e)\n",
    "    "
   ]
  },
  {
   "cell_type": "code",
   "execution_count": 21,
   "id": "a0c57261",
   "metadata": {},
   "outputs": [
    {
     "name": "stdout",
     "output_type": "stream",
     "text": [
      "Recursive Sum of Digits =  2\n"
     ]
    }
   ],
   "source": [
    "rec_digit_sum(941561561)"
   ]
  }
 ],
 "metadata": {
  "kernelspec": {
   "display_name": "Python 3 (ipykernel)",
   "language": "python",
   "name": "python3"
  },
  "language_info": {
   "codemirror_mode": {
    "name": "ipython",
    "version": 3
   },
   "file_extension": ".py",
   "mimetype": "text/x-python",
   "name": "python",
   "nbconvert_exporter": "python",
   "pygments_lexer": "ipython3",
   "version": "3.9.7"
  }
 },
 "nbformat": 4,
 "nbformat_minor": 5
}
